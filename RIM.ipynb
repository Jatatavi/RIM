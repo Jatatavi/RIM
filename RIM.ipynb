{
 "cells": [
  {
   "cell_type": "code",
   "execution_count": 1,
   "metadata": {},
   "outputs": [],
   "source": [
    "import weightipy as wp"
   ]
  },
  {
   "cell_type": "code",
   "execution_count": 2,
   "metadata": {},
   "outputs": [],
   "source": [
    "import pandas as pd"
   ]
  },
  {
   "cell_type": "code",
   "execution_count": 108,
   "metadata": {},
   "outputs": [],
   "source": [
    "ms=pd.read_excel(r'C:\\Users\\User\\Downloads\\ac1.xlsx')\n",
    "ms['mla_2018'].replace('Independent candidateÂ', 'IND', inplace=True)"
   ]
  },
  {
   "cell_type": "code",
   "execution_count": 155,
   "metadata": {},
   "outputs": [],
   "source": [
    "retro=pd.read_excel(r'E:\\Manish PY\\2018Retro.xlsx')"
   ]
  },
  {
   "cell_type": "code",
   "execution_count": 109,
   "metadata": {},
   "outputs": [],
   "source": [
    "caste=pd.read_excel(r'E:\\Manish PY\\mpcastefinal.xlsx')"
   ]
  },
  {
   "cell_type": "code",
   "execution_count": null,
   "metadata": {},
   "outputs": [],
   "source": [
    "#filter the set of castes which are more than 3% in universe and more than 5 samples\n",
    "#reset caste dict to reflect set of caste and rest as 'others'\n",
    "#make a column in ms 'caste map' to reflect castes in set and rest as 'others'\n",
    "#run caste weights\n"
   ]
  },
  {
   "cell_type": "code",
   "execution_count": null,
   "metadata": {},
   "outputs": [],
   "source": [
    "#retro mapping\n",
    "#decide poles- above 6%\n",
    "#check for samples and make set of parties (samples>5)\n",
    "#make retro_dict by including set and 'others' as rest\n",
    "#make 'party mapped' in ms to have parties from set and rest as 'others'\n",
    "#Run retro weights"
   ]
  },
  {
   "cell_type": "code",
   "execution_count": null,
   "metadata": {},
   "outputs": [],
   "source": [
    "aclist=ms['ac_no'].unique()\n",
    "for i in range(len(aclist)):\n",
    "    #ms\n",
    "    try:\n",
    "        ac=ms[ms['ac_no']==aclist[i]]\n",
    "        accaste=caste[caste['ac_no']==aclist[i]]\n",
    "        acretro=retro[(retro['Key']=='2018 AE') & (retro['AC No']==aclist[i])]\n",
    "\n",
    "\n",
    "        #####################################################CASTE DICT FOR WEIGHING AND CASTE MAP COLUMN\n",
    "        #1. finding castes with more than 5 samples\n",
    "        l= ac['caste_clean'].value_counts()\n",
    "        l=l.reset_index(name='count')\n",
    "        l=l[l['count']>5]\n",
    "        s1=set(l['caste_clean'])\n",
    "\n",
    "        #2. FINDING CASTE WITH MORE THAN 3% IN UNIVERSE\n",
    "        l= accaste[accaste['pop']>0.03]\n",
    "        s2=set(l['clean caste'])\n",
    "\n",
    "        #3. Finsing intersection\n",
    "        s3=s1.intersection(s2)\n",
    "\n",
    "        #4. reseting caste dict of AC\n",
    "        accaste=caste[caste['ac_no']==aclist[i]]\n",
    "        accaste=accaste[['clean caste','pop']]\n",
    "        accaste=accaste[accaste['clean caste'].isin(s3)].reset_index()\n",
    "        index_of_others = accaste.index[accaste['clean caste'] == 'others']\n",
    "        v=1-accaste['pop'].sum()\n",
    "        c=v+accaste.iloc[index_of_others[0], accaste.columns.get_loc('pop')]\n",
    "        accaste.iloc[index_of_others[0], accaste.columns.get_loc('pop')]=c\n",
    "        accaste=accaste[['clean caste','pop']]\n",
    "        ac_caste_dict = accaste.set_index('clean caste')['pop'].to_dict()\n",
    "        \n",
    "\n",
    "        #5. Creating caste_map in raw\n",
    "        ac['caste_map'] = np.where(ac['caste_clean'].isin(s3), ac['caste_clean'], 'others')\n",
    "\n",
    "\n",
    "        ######################################################RETRO DICT FOR WEIGHING AND RETRO MAP COLUMN\n",
    "        #1. finding party with more than 5 samples\n",
    "        l= ac['mla_2018'].value_counts()\n",
    "        l=l.reset_index(name='count')\n",
    "        l=l[l['count']>5]\n",
    "        s1=set(l['mla_2018'])\n",
    "\n",
    "        #2. FINDING PARTY WITH MORE THAN 6% IN UNIVERSE\n",
    "        acretro=retro[(retro['Key']=='2018 AE') & (retro['AC No']==aclist[i])]\n",
    "        l= acretro[acretro['Vote Share Percentage']>6]\n",
    "        s2=set(l['Party Name'])\n",
    "\n",
    "        #3. Finsing intersection\n",
    "        s3=s1.intersection(s2)\n",
    "        s3.add('others')\n",
    "\n",
    "        #4. Making retro dict for weighing\n",
    "        acretro=retro[(retro['Key']=='2018 AE') & (retro['AC No']==aclist[i])]\n",
    "        acretro=acretro[['Party Name','Vote Share Percentage']]\n",
    "        acretro=acretro[acretro['Party Name'].isin(s3)].reset_index()\n",
    "        acretro=acretro[['Party Name','Vote Share Percentage']]\n",
    "        new_row = {'Party Name': 'others','Vote Share Percentage':100-acretro['Vote Share Percentage'].sum()}\n",
    "        acretro.loc[len(acretro)] = new_row\n",
    "        ac_retro_dict = acretro.set_index('Party Name')['Vote Share Percentage'].to_dict()\n",
    "    \n",
    "\n",
    "        #5. adding column in raw\n",
    "        ac['party clean 2018'] = np.where(ac['mla_2018'].isin(s3), ac['mla_2018'], 'others')\n",
    "\n",
    "        #################################################################################WEIGHING\n",
    "        print(\"running ac no\",aclist[i],\"count\",i)\n",
    "        targets = {\n",
    "        \"Age bucket\": {\"18 to 24\": 14.0, \"25 to 35\": 23.0, \"35 to 50\": 31.0, \"51 & Above\": 32.0},\n",
    "        \"gender\": {\"Male\": 48, \"Female\": 52},\n",
    "        \"caste_clean\": ac_caste_dict,\n",
    "        \"party clean 2018\": ac_retro_dict\n",
    "\n",
    "        }\n",
    "        scheme = wp.scheme_from_dict(targets)\n",
    "\n",
    "        ms_weighted = wp.weight_dataframe(\n",
    "            df=ac,\n",
    "            scheme=scheme,\n",
    "            weight_column=\"wt_wpy_ac\"\n",
    "        )\n",
    "        efficiency = wp.weighting_efficiency(ms_weighted[\"wt_wpy_ac\"])\n",
    "\n",
    "    except:\n",
    "        print(\"ERROR OCCURED\")\n",
    "        ms_weighted=ac\n",
    "        \n",
    "        ###############################################################################MERGING\n",
    "    if  i==0:\n",
    "        ms_weighted_ac=ms_weighted\n",
    "    else:\n",
    "        ms_weighted_ac=pd.concat([ms_weighted_ac,ms_weighted],ignore_index=True)\n",
    "    \n",
    "\n",
    "\n"
   ]
  },
  {
   "cell_type": "code",
   "execution_count": 187,
   "metadata": {},
   "outputs": [],
   "source": [
    "ms_weighted_ac.to_excel('ms_weighted_ac.xlsx')"
   ]
  },
  {
   "cell_type": "code",
   "execution_count": 36,
   "metadata": {},
   "outputs": [
    {
     "name": "stdout",
     "output_type": "stream",
     "text": [
      "Raking achieved only partial convergence, please check the results to ensure that sufficient convergence was achieved.\n",
      "No improvement was apparent after 197 iterations\n"
     ]
    }
   ],
   "source": [
    "#Caste Universe dict creation\n",
    "aclist=ms['ac_no'].unique()\n",
    "shortlisted=caste[caste['ac_no'].isin(aclist)]\n",
    "casteU=shortlisted.groupby([ 'clean caste'])\n",
    "casteUdf=casteU.agg({'population':'sum'})\n",
    "casteUdf['prop']=casteUdf['population']/casteUdf['population'].sum()\n",
    "casteUdf=casteUdf[['prop']]\n",
    "caste_dict = casteUdf['prop'].to_dict() #dictionery\n",
    "caste_dict\n",
    "\n",
    "\n",
    "\n",
    "#Universe weights\n",
    "targets = {\n",
    "    \"Age bucket\": {\"18 to 24\": 14.0, \"25 to 35\": 23.0, \"35 to 50\": 31.0, \"51 & Above\": 32.0},\n",
    "    \"gender\": {\"Male\": 49, \"Female\": 51},\n",
    "    \"caste_clean\": caste_dict,\n",
    "    \"party clean 2018\": {\"INC\":42.0, \"BJP\": 42.1, \"BSP\":4.0, \"others\": 11.9 }\n",
    "\n",
    "}\n",
    "scheme = wp.scheme_from_dict(targets)\n",
    "\n",
    "ms_weighted = wp.weight_dataframe(\n",
    "    df=ms,\n",
    "    scheme=scheme,\n",
    "    weight_column=\"wt_wpy_U\"\n",
    ")\n",
    "efficiency = wp.weighting_efficiency(df_weighted[\"wt_wpy_U\"])"
   ]
  },
  {
   "cell_type": "code",
   "execution_count": null,
   "metadata": {},
   "outputs": [],
   "source": []
  }
 ],
 "metadata": {
  "kernelspec": {
   "display_name": "Python 3",
   "language": "python",
   "name": "python3"
  },
  "language_info": {
   "codemirror_mode": {
    "name": "ipython",
    "version": 3
   },
   "file_extension": ".py",
   "mimetype": "text/x-python",
   "name": "python",
   "nbconvert_exporter": "python",
   "pygments_lexer": "ipython3",
   "version": "3.11.4"
  },
  "orig_nbformat": 4
 },
 "nbformat": 4,
 "nbformat_minor": 2
}
